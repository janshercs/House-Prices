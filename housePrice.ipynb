{
 "cells": [
  {
   "cell_type": "code",
   "execution_count": 1,
   "metadata": {},
   "outputs": [],
   "source": [
    "%matplotlib inline\n",
    "import numpy as np\n",
    "import pandas as pd\n",
    "import seaborn as sns\n",
    "import matplotlib.pyplot as plt\n",
    "\n",
    "from sklearn.model_selection import train_test_split\n",
    "from sklearn.linear_model import LinearRegression\n",
    "from sklearn.preprocessing import PolynomialFeatures"
   ]
  },
  {
   "cell_type": "code",
   "execution_count": 35,
   "metadata": {},
   "outputs": [
    {
     "name": "stdout",
     "output_type": "stream",
     "text": [
      "Just stylising the markdowns\n"
     ]
    },
    {
     "data": {
      "text/html": [
       "<style>h2{color: #FF756D; font-size: 400%} h3 {color: #85DE77;font-size: 200%;} h4 {color: #FFF49C; font-size: 150%} p {color:#F9FFCB }</style>"
      ],
      "text/plain": [
       "<IPython.core.display.HTML object>"
      ]
     },
     "execution_count": 35,
     "metadata": {},
     "output_type": "execute_result"
    }
   ],
   "source": [
    "from IPython.display import HTML\n",
    "style = \"<style>h2{color: #FF756D; font-size: 400%} h3 {color: #85DE77;font-size: 200%;} h4 {color: #FFF49C; font-size: 150%} p {color:#F9FFCB }</style>\"\n",
    "print('Just stylising the markdowns')\n",
    "HTML(style)"
   ]
  },
  {
   "cell_type": "markdown",
   "metadata": {},
   "source": [
    "## Reading in train and test data and finding out what we have here\n",
    "### Colour scheme for markdown:\n",
    "Coral Reef (#FF756D), Pastel Yellow (#FFF49C), Conditioner (#F9FFCB) and Pastel Green (#85DE77)\n"
   ]
  },
  {
   "cell_type": "code",
   "execution_count": 4,
   "metadata": {},
   "outputs": [
    {
     "data": {
      "text/plain": [
       "(1460, 81)"
      ]
     },
     "execution_count": 4,
     "metadata": {},
     "output_type": "execute_result"
    }
   ],
   "source": [
    "df = pd.read_csv('train.csv')\n",
    "df_test = pd.read_csv('test.csv')\n",
    "df.shape"
   ]
  },
  {
   "cell_type": "markdown",
   "metadata": {},
   "source": [
    "#### There are 81 features! How should I select and process them for the model?"
   ]
  },
  {
   "cell_type": "markdown",
   "metadata": {},
   "source": [
    "## Preprocessing\n",
    "### Finding out missing data and data types"
   ]
  },
  {
   "cell_type": "code",
   "execution_count": 33,
   "metadata": {},
   "outputs": [
    {
     "name": "stdout",
     "output_type": "stream",
     "text": [
      "There are 19 columns with missing data\n"
     ]
    },
    {
     "data": {
      "text/plain": [
       "PoolQC          99.520548\n",
       "MiscFeature     96.301370\n",
       "Alley           93.767123\n",
       "Fence           80.753425\n",
       "FireplaceQu     47.260274\n",
       "LotFrontage     17.739726\n",
       "GarageCond       5.547945\n",
       "GarageType       5.547945\n",
       "GarageYrBlt      5.547945\n",
       "GarageFinish     5.547945\n",
       "GarageQual       5.547945\n",
       "BsmtExposure     2.602740\n",
       "BsmtFinType2     2.602740\n",
       "BsmtFinType1     2.534247\n",
       "BsmtCond         2.534247\n",
       "BsmtQual         2.534247\n",
       "MasVnrArea       0.547945\n",
       "MasVnrType       0.547945\n",
       "Electrical       0.068493\n",
       "dtype: float64"
      ]
     },
     "execution_count": 33,
     "metadata": {},
     "output_type": "execute_result"
    }
   ],
   "source": [
    "missingCounts = df.isnull().sum()\n",
    "missingNormalised = df.isnull().sum()/df.isnull().count()*100\n",
    "print('There are {} columns with missing data'.format((missingCounts!=0).sum()))\n",
    "missingNormalised.sort_values(ascending = False)[missingCounts!=0]"
   ]
  },
  {
   "cell_type": "code",
   "execution_count": 48,
   "metadata": {},
   "outputs": [
    {
     "data": {
      "text/html": [
       "<div>\n",
       "<style scoped>\n",
       "    .dataframe tbody tr th:only-of-type {\n",
       "        vertical-align: middle;\n",
       "    }\n",
       "\n",
       "    .dataframe tbody tr th {\n",
       "        vertical-align: top;\n",
       "    }\n",
       "\n",
       "    .dataframe thead th {\n",
       "        text-align: right;\n",
       "    }\n",
       "</style>\n",
       "<table border=\"1\" class=\"dataframe\">\n",
       "  <thead>\n",
       "    <tr style=\"text-align: right;\">\n",
       "      <th></th>\n",
       "      <th>Continuous</th>\n",
       "      <th>Categorical</th>\n",
       "    </tr>\n",
       "  </thead>\n",
       "  <tbody>\n",
       "    <tr>\n",
       "      <th>0</th>\n",
       "      <td>Id</td>\n",
       "      <td>MSZoning</td>\n",
       "    </tr>\n",
       "    <tr>\n",
       "      <th>1</th>\n",
       "      <td>MSSubClass</td>\n",
       "      <td>Street</td>\n",
       "    </tr>\n",
       "    <tr>\n",
       "      <th>2</th>\n",
       "      <td>LotFrontage</td>\n",
       "      <td>Alley</td>\n",
       "    </tr>\n",
       "    <tr>\n",
       "      <th>3</th>\n",
       "      <td>LotArea</td>\n",
       "      <td>LotShape</td>\n",
       "    </tr>\n",
       "    <tr>\n",
       "      <th>4</th>\n",
       "      <td>OverallQual</td>\n",
       "      <td>LandContour</td>\n",
       "    </tr>\n",
       "    <tr>\n",
       "      <th>5</th>\n",
       "      <td>OverallCond</td>\n",
       "      <td>Utilities</td>\n",
       "    </tr>\n",
       "    <tr>\n",
       "      <th>6</th>\n",
       "      <td>YearBuilt</td>\n",
       "      <td>LotConfig</td>\n",
       "    </tr>\n",
       "    <tr>\n",
       "      <th>7</th>\n",
       "      <td>YearRemodAdd</td>\n",
       "      <td>LandSlope</td>\n",
       "    </tr>\n",
       "    <tr>\n",
       "      <th>8</th>\n",
       "      <td>MasVnrArea</td>\n",
       "      <td>Neighborhood</td>\n",
       "    </tr>\n",
       "    <tr>\n",
       "      <th>9</th>\n",
       "      <td>BsmtFinSF1</td>\n",
       "      <td>Condition1</td>\n",
       "    </tr>\n",
       "    <tr>\n",
       "      <th>10</th>\n",
       "      <td>BsmtFinSF2</td>\n",
       "      <td>Condition2</td>\n",
       "    </tr>\n",
       "    <tr>\n",
       "      <th>11</th>\n",
       "      <td>BsmtUnfSF</td>\n",
       "      <td>BldgType</td>\n",
       "    </tr>\n",
       "    <tr>\n",
       "      <th>12</th>\n",
       "      <td>TotalBsmtSF</td>\n",
       "      <td>HouseStyle</td>\n",
       "    </tr>\n",
       "    <tr>\n",
       "      <th>13</th>\n",
       "      <td>1stFlrSF</td>\n",
       "      <td>RoofStyle</td>\n",
       "    </tr>\n",
       "    <tr>\n",
       "      <th>14</th>\n",
       "      <td>2ndFlrSF</td>\n",
       "      <td>RoofMatl</td>\n",
       "    </tr>\n",
       "    <tr>\n",
       "      <th>15</th>\n",
       "      <td>LowQualFinSF</td>\n",
       "      <td>Exterior1st</td>\n",
       "    </tr>\n",
       "    <tr>\n",
       "      <th>16</th>\n",
       "      <td>GrLivArea</td>\n",
       "      <td>Exterior2nd</td>\n",
       "    </tr>\n",
       "    <tr>\n",
       "      <th>17</th>\n",
       "      <td>BsmtFullBath</td>\n",
       "      <td>MasVnrType</td>\n",
       "    </tr>\n",
       "    <tr>\n",
       "      <th>18</th>\n",
       "      <td>BsmtHalfBath</td>\n",
       "      <td>ExterQual</td>\n",
       "    </tr>\n",
       "    <tr>\n",
       "      <th>19</th>\n",
       "      <td>FullBath</td>\n",
       "      <td>ExterCond</td>\n",
       "    </tr>\n",
       "    <tr>\n",
       "      <th>20</th>\n",
       "      <td>HalfBath</td>\n",
       "      <td>Foundation</td>\n",
       "    </tr>\n",
       "    <tr>\n",
       "      <th>21</th>\n",
       "      <td>BedroomAbvGr</td>\n",
       "      <td>BsmtQual</td>\n",
       "    </tr>\n",
       "    <tr>\n",
       "      <th>22</th>\n",
       "      <td>KitchenAbvGr</td>\n",
       "      <td>BsmtCond</td>\n",
       "    </tr>\n",
       "    <tr>\n",
       "      <th>23</th>\n",
       "      <td>TotRmsAbvGrd</td>\n",
       "      <td>BsmtExposure</td>\n",
       "    </tr>\n",
       "    <tr>\n",
       "      <th>24</th>\n",
       "      <td>Fireplaces</td>\n",
       "      <td>BsmtFinType1</td>\n",
       "    </tr>\n",
       "    <tr>\n",
       "      <th>25</th>\n",
       "      <td>GarageYrBlt</td>\n",
       "      <td>BsmtFinType2</td>\n",
       "    </tr>\n",
       "    <tr>\n",
       "      <th>26</th>\n",
       "      <td>GarageCars</td>\n",
       "      <td>Heating</td>\n",
       "    </tr>\n",
       "    <tr>\n",
       "      <th>27</th>\n",
       "      <td>GarageArea</td>\n",
       "      <td>HeatingQC</td>\n",
       "    </tr>\n",
       "    <tr>\n",
       "      <th>28</th>\n",
       "      <td>WoodDeckSF</td>\n",
       "      <td>CentralAir</td>\n",
       "    </tr>\n",
       "    <tr>\n",
       "      <th>29</th>\n",
       "      <td>OpenPorchSF</td>\n",
       "      <td>Electrical</td>\n",
       "    </tr>\n",
       "    <tr>\n",
       "      <th>30</th>\n",
       "      <td>EnclosedPorch</td>\n",
       "      <td>KitchenQual</td>\n",
       "    </tr>\n",
       "    <tr>\n",
       "      <th>31</th>\n",
       "      <td>3SsnPorch</td>\n",
       "      <td>Functional</td>\n",
       "    </tr>\n",
       "    <tr>\n",
       "      <th>32</th>\n",
       "      <td>ScreenPorch</td>\n",
       "      <td>FireplaceQu</td>\n",
       "    </tr>\n",
       "    <tr>\n",
       "      <th>33</th>\n",
       "      <td>PoolArea</td>\n",
       "      <td>GarageType</td>\n",
       "    </tr>\n",
       "    <tr>\n",
       "      <th>34</th>\n",
       "      <td>MiscVal</td>\n",
       "      <td>GarageFinish</td>\n",
       "    </tr>\n",
       "    <tr>\n",
       "      <th>35</th>\n",
       "      <td>MoSold</td>\n",
       "      <td>GarageQual</td>\n",
       "    </tr>\n",
       "    <tr>\n",
       "      <th>36</th>\n",
       "      <td>YrSold</td>\n",
       "      <td>GarageCond</td>\n",
       "    </tr>\n",
       "    <tr>\n",
       "      <th>37</th>\n",
       "      <td>SalePrice</td>\n",
       "      <td>PavedDrive</td>\n",
       "    </tr>\n",
       "    <tr>\n",
       "      <th>38</th>\n",
       "      <td>None</td>\n",
       "      <td>PoolQC</td>\n",
       "    </tr>\n",
       "    <tr>\n",
       "      <th>39</th>\n",
       "      <td>None</td>\n",
       "      <td>Fence</td>\n",
       "    </tr>\n",
       "    <tr>\n",
       "      <th>40</th>\n",
       "      <td>None</td>\n",
       "      <td>MiscFeature</td>\n",
       "    </tr>\n",
       "    <tr>\n",
       "      <th>41</th>\n",
       "      <td>None</td>\n",
       "      <td>SaleType</td>\n",
       "    </tr>\n",
       "    <tr>\n",
       "      <th>42</th>\n",
       "      <td>None</td>\n",
       "      <td>SaleCondition</td>\n",
       "    </tr>\n",
       "  </tbody>\n",
       "</table>\n",
       "</div>"
      ],
      "text/plain": [
       "       Continuous    Categorical\n",
       "0              Id       MSZoning\n",
       "1      MSSubClass         Street\n",
       "2     LotFrontage          Alley\n",
       "3         LotArea       LotShape\n",
       "4     OverallQual    LandContour\n",
       "5     OverallCond      Utilities\n",
       "6       YearBuilt      LotConfig\n",
       "7    YearRemodAdd      LandSlope\n",
       "8      MasVnrArea   Neighborhood\n",
       "9      BsmtFinSF1     Condition1\n",
       "10     BsmtFinSF2     Condition2\n",
       "11      BsmtUnfSF       BldgType\n",
       "12    TotalBsmtSF     HouseStyle\n",
       "13       1stFlrSF      RoofStyle\n",
       "14       2ndFlrSF       RoofMatl\n",
       "15   LowQualFinSF    Exterior1st\n",
       "16      GrLivArea    Exterior2nd\n",
       "17   BsmtFullBath     MasVnrType\n",
       "18   BsmtHalfBath      ExterQual\n",
       "19       FullBath      ExterCond\n",
       "20       HalfBath     Foundation\n",
       "21   BedroomAbvGr       BsmtQual\n",
       "22   KitchenAbvGr       BsmtCond\n",
       "23   TotRmsAbvGrd   BsmtExposure\n",
       "24     Fireplaces   BsmtFinType1\n",
       "25    GarageYrBlt   BsmtFinType2\n",
       "26     GarageCars        Heating\n",
       "27     GarageArea      HeatingQC\n",
       "28     WoodDeckSF     CentralAir\n",
       "29    OpenPorchSF     Electrical\n",
       "30  EnclosedPorch    KitchenQual\n",
       "31      3SsnPorch     Functional\n",
       "32    ScreenPorch    FireplaceQu\n",
       "33       PoolArea     GarageType\n",
       "34        MiscVal   GarageFinish\n",
       "35         MoSold     GarageQual\n",
       "36         YrSold     GarageCond\n",
       "37      SalePrice     PavedDrive\n",
       "38           None         PoolQC\n",
       "39           None          Fence\n",
       "40           None    MiscFeature\n",
       "41           None       SaleType\n",
       "42           None  SaleCondition"
      ]
     },
     "execution_count": 48,
     "metadata": {},
     "output_type": "execute_result"
    }
   ],
   "source": [
    "continuous = df.columns[df.dtypes!= object]\n",
    "categorical = df.columns[df.dtypes == object]\n",
    "featureTypes = pd.DataFrame([continuous,categorical], index = ['Continuous','Categorical'])\n",
    "featureTypes.T"
   ]
  },
  {
   "cell_type": "code",
   "execution_count": 54,
   "metadata": {},
   "outputs": [
    {
     "data": {
      "text/plain": [
       "Id               1.777550e+05\n",
       "MSSubClass       1.789338e+03\n",
       "LotFrontage      5.897492e+02\n",
       "LotArea          9.962565e+07\n",
       "OverallQual      1.912679e+00\n",
       "OverallCond      1.238322e+00\n",
       "YearBuilt        9.122154e+02\n",
       "YearRemodAdd     4.262328e+02\n",
       "MasVnrArea       3.278497e+04\n",
       "BsmtFinSF1       2.080255e+05\n",
       "BsmtFinSF2       2.602391e+04\n",
       "BsmtUnfSF        1.952464e+05\n",
       "TotalBsmtSF      1.924624e+05\n",
       "1stFlrSF         1.494501e+05\n",
       "2ndFlrSF         1.905571e+05\n",
       "LowQualFinSF     2.364204e+03\n",
       "GrLivArea        2.761296e+05\n",
       "BsmtFullBath     2.692682e-01\n",
       "BsmtHalfBath     5.700283e-02\n",
       "FullBath         3.035082e-01\n",
       "HalfBath         2.528937e-01\n",
       "BedroomAbvGr     6.654938e-01\n",
       "KitchenAbvGr     4.854892e-02\n",
       "TotRmsAbvGrd     2.641903e+00\n",
       "Fireplaces       4.155947e-01\n",
       "GarageYrBlt      6.095825e+02\n",
       "GarageCars       5.584797e-01\n",
       "GarageArea       4.571251e+04\n",
       "WoodDeckSF       1.570981e+04\n",
       "OpenPorchSF      4.389861e+03\n",
       "EnclosedPorch    3.735550e+03\n",
       "3SsnPorch        8.595059e+02\n",
       "ScreenPorch      3.108889e+03\n",
       "PoolArea         1.614216e+03\n",
       "MiscVal          2.461381e+05\n",
       "MoSold           7.309595e+00\n",
       "YrSold           1.763837e+00\n",
       "SalePrice        6.311111e+09\n",
       "dtype: float64"
      ]
     },
     "execution_count": 54,
     "metadata": {},
     "output_type": "execute_result"
    }
   ],
   "source": [
    "df.var()"
   ]
  },
  {
   "cell_type": "code",
   "execution_count": 55,
   "metadata": {},
   "outputs": [
    {
     "data": {
      "text/plain": [
       "0      1453\n",
       "738       1\n",
       "648       1\n",
       "576       1\n",
       "555       1\n",
       "519       1\n",
       "512       1\n",
       "480       1\n",
       "Name: PoolArea, dtype: int64"
      ]
     },
     "execution_count": 55,
     "metadata": {},
     "output_type": "execute_result"
    }
   ],
   "source": [
    "df.PoolArea.value_counts()"
   ]
  },
  {
   "cell_type": "code",
   "execution_count": null,
   "metadata": {},
   "outputs": [],
   "source": []
  }
 ],
 "metadata": {
  "kernelspec": {
   "display_name": "Python 3",
   "language": "python",
   "name": "python3"
  },
  "language_info": {
   "codemirror_mode": {
    "name": "ipython",
    "version": 3
   },
   "file_extension": ".py",
   "mimetype": "text/x-python",
   "name": "python",
   "nbconvert_exporter": "python",
   "pygments_lexer": "ipython3",
   "version": "3.7.2"
  }
 },
 "nbformat": 4,
 "nbformat_minor": 2
}
